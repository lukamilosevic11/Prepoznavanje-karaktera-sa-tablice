{
  "nbformat": 4,
  "nbformat_minor": 0,
  "metadata": {
    "colab": {
      "name": "final_ALPR.ipynb",
      "version": "0.3.2",
      "provenance": [],
      "collapsed_sections": []
    },
    "kernelspec": {
      "name": "python3",
      "display_name": "Python 3"
    },
    "accelerator": "GPU"
  },
  "cells": [
    {
      "cell_type": "code",
      "metadata": {
        "id": "LRG0B8UM1iER",
        "colab_type": "code",
        "outputId": "df6bcdad-3429-463e-c98f-95d58ea6b044",
        "colab": {
          "base_uri": "https://localhost:8080/",
          "height": 122
        }
      },
      "source": [
        "from google.colab import drive\n",
        "drive.mount('/content/gdrive')"
      ],
      "execution_count": 2,
      "outputs": [
        {
          "output_type": "stream",
          "text": [
            "Go to this URL in a browser: https://accounts.google.com/o/oauth2/auth?client_id=947318989803-6bn6qk8qdgf4n4g3pfee6491hc0brc4i.apps.googleusercontent.com&redirect_uri=urn%3Aietf%3Awg%3Aoauth%3A2.0%3Aoob&scope=email%20https%3A%2F%2Fwww.googleapis.com%2Fauth%2Fdocs.test%20https%3A%2F%2Fwww.googleapis.com%2Fauth%2Fdrive%20https%3A%2F%2Fwww.googleapis.com%2Fauth%2Fdrive.photos.readonly%20https%3A%2F%2Fwww.googleapis.com%2Fauth%2Fpeopleapi.readonly&response_type=code\n",
            "\n",
            "Enter your authorization code:\n",
            "··········\n",
            "Mounted at /content/gdrive\n"
          ],
          "name": "stdout"
        }
      ]
    },
    {
      "cell_type": "code",
      "metadata": {
        "id": "T_g6K3GY1nsq",
        "colab_type": "code",
        "colab": {}
      },
      "source": [
        "cp /content/gdrive/My\\ Drive/podaci.tar /content/"
      ],
      "execution_count": 0,
      "outputs": []
    },
    {
      "cell_type": "code",
      "metadata": {
        "id": "ciAmkZpi1n-o",
        "colab_type": "code",
        "colab": {}
      },
      "source": [
        "cd /content/"
      ],
      "execution_count": 0,
      "outputs": []
    },
    {
      "cell_type": "code",
      "metadata": {
        "id": "383NZMhj1oKw",
        "colab_type": "code",
        "colab": {}
      },
      "source": [
        "mkdir data"
      ],
      "execution_count": 0,
      "outputs": []
    },
    {
      "cell_type": "code",
      "metadata": {
        "id": "OaMmg5bf1oWI",
        "colab_type": "code",
        "colab": {}
      },
      "source": [
        "cp /content/podaci.tar /content/data/"
      ],
      "execution_count": 0,
      "outputs": []
    },
    {
      "cell_type": "code",
      "metadata": {
        "id": "xzKFuACO1ofw",
        "colab_type": "code",
        "colab": {}
      },
      "source": [
        "cd /content/data/"
      ],
      "execution_count": 0,
      "outputs": []
    },
    {
      "cell_type": "code",
      "metadata": {
        "id": "FLC8yfMK1oqo",
        "colab_type": "code",
        "colab": {}
      },
      "source": [
        "!tar -xvf podaci.tar"
      ],
      "execution_count": 0,
      "outputs": []
    },
    {
      "cell_type": "code",
      "metadata": {
        "id": "YwT577FA1sr5",
        "colab_type": "code",
        "colab": {}
      },
      "source": [
        "#U ovoj celiji se nalaze biblioteke koje smo koristili, kao i definicije svih funkcija\n",
        "import os\n",
        "from os.path import join\n",
        "import json\n",
        "import random\n",
        "import itertools\n",
        "import numpy as np\n",
        "import pylab\n",
        "import matplotlib.pyplot as plt\n",
        "import matplotlib.gridspec as gridspec\n",
        "import keras\n",
        "import tensorflow as tf\n",
        "from keras import backend as K\n",
        "from keras.layers.convolutional import Conv2D, MaxPooling2D\n",
        "from keras.layers import (Input, Dense, Activation, \n",
        "                        Reshape, Lambda)\n",
        "from keras.layers.recurrent import GRU\n",
        "from keras.layers.merge import add, concatenate\n",
        "from keras.models import Model, load_model\n",
        "from keras.optimizers import (SGD, RMSprop, Nadam)\n",
        "from keras.preprocessing import image\n",
        "import cv2\n",
        "from collections import Counter\n",
        "from IPython.display import SVG\n",
        "from keras.utils.vis_utils import model_to_dot\n",
        "\n",
        "# Funkcija koja pomaze da uvidimo koji se sve karakteri nalaze u skupu, \n",
        "# kao i da li su u sva tri podskupa isti karakteri\n",
        "def character_validation(path, tag):\n",
        "    ann_path = join(path, 'ann')\n",
        "    all_characters = ''\n",
        "    for filename in os.listdir(ann_path):\n",
        "        json_path = join(ann_path, filename)\n",
        "        ann = json.load(open(json_path, 'r'))\n",
        "        description = ann['description']\n",
        "        all_characters += description\n",
        "    return Counter(all_characters)\n",
        "\n",
        "# Funkcija koja mapira string u listu karaktera\n",
        "def text_to_labels(text):\n",
        "    return list(map(lambda x: all_characters.index(x), text))\n",
        "\n",
        "# Klasa koja se bavi preprocesiranjem slika koje se salju neuronskoj mrezi\n",
        "class TextImageGenerator:\n",
        "    def __init__(self, \n",
        "                 dirpath,\n",
        "                 tag,\n",
        "                 img_w, img_h, \n",
        "                 batch_size, \n",
        "                 downsample_factor):\n",
        "        \n",
        "        self.img_h = img_h\n",
        "        self.img_w = img_w\n",
        "        self.batch_size = batch_size\n",
        "        self.downsample_factor = downsample_factor\n",
        "        self.max_text_len = 8\n",
        "        self.samples = []\n",
        "        \n",
        "        img_dirpath = join(dirpath, 'img')\n",
        "        ann_dirpath = join(dirpath, 'ann')\n",
        "        \n",
        "        \n",
        "        for filename in os.listdir(img_dirpath):\n",
        "            name, ext = os.path.splitext(filename)\n",
        "            if ext in ['.png', '.jpg']:\n",
        "                img_filepath = join(img_dirpath, filename)\n",
        "                json_filepath = join(ann_dirpath, name + '.json')\n",
        "                ann = json.load(open(json_filepath, 'r'))\n",
        "                description = ann['description']\n",
        "                self.samples.append([img_filepath, description])\n",
        "        \n",
        "        self.n = len(self.samples)\n",
        "        self.indexes = list(range(self.n))\n",
        "        self.cur_index = 0\n",
        "    \n",
        "\n",
        "        \n",
        "    def prepare_image(self):\n",
        "        self.imgs = np.zeros((self.n, self.img_h, self.img_w))\n",
        "        self.texts = []\n",
        "        for i, (img_path, text) in enumerate(self.samples):\n",
        "            img = cv2.imread(img_path, 0)\n",
        "            img = cv2.resize(img, (self.img_w, self.img_h))\n",
        "            img = img.astype(np.float32)\n",
        "            rows = len(img)\n",
        "            cols = len(img[0])\n",
        "            outputImg = img\n",
        "            minGray = np.amin(img)\n",
        "            maxGray = np.amax(img)\n",
        "            diff = maxGray-minGray\n",
        "\n",
        "            for j in range(0,rows):\n",
        "              for k in range(0,cols):\n",
        "                #fuzzification\n",
        "                memFunc = (img[j][k] - minGray)/diff\n",
        "                #modification of membership function by INT operator\n",
        "                if(memFunc <= 0.5 and memFunc > 0.5):\n",
        "                  memFunc = 2 * (memFunc**2)\n",
        "                elif(memFunc <= 1 and memFunc > 0.5):\n",
        "                  memFunc = 1 - 2*((1-memFunc)**2)\n",
        "\n",
        "                #defuzzification\n",
        "                outputImg[j][k] = minGray + memFunc*diff\n",
        "                \n",
        "            self.imgs[i, :, :] = outputImg/255\n",
        "            self.texts.append(text)\n",
        "        \n",
        "    def get_output_size(self):\n",
        "        return len(all_characters) + 1\n",
        "    \n",
        "    def next_sample(self):\n",
        "        self.cur_index += 1\n",
        "        if self.cur_index >= self.n:\n",
        "            self.cur_index = 0\n",
        "            random.shuffle(self.indexes)\n",
        "        return self.imgs[self.indexes[self.cur_index]], self.texts[self.indexes[self.cur_index]]\n",
        "    \n",
        "    def next_image_group(self):\n",
        "        while True:            \n",
        "            X_data = np.ones([self.batch_size, self.img_w, self.img_h, 1])\n",
        "            Y_data = np.ones([self.batch_size, self.max_text_len])\n",
        "            input_length = np.ones((self.batch_size, 1)) * (self.img_w // self.downsample_factor - 2)\n",
        "            label_length = np.zeros((self.batch_size, 1))\n",
        "            source_str = []\n",
        "                                   \n",
        "            for i in range(self.batch_size):\n",
        "                img, text = self.next_sample()\n",
        "                img = img.T\n",
        "                img = np.expand_dims(img, -1)\n",
        "                X_data[i] = img\n",
        "                Y_data[i] = text_to_labels(text)\n",
        "                source_str.append(text)\n",
        "                label_length[i] = len(text)\n",
        "                \n",
        "            inputs = {\n",
        "                'the_input': X_data,\n",
        "                'the_labels': Y_data,\n",
        "                'input_length': input_length,\n",
        "                'label_length': label_length,\n",
        "            }\n",
        "            outputs = {'ctc': np.zeros([self.batch_size])}\n",
        "                        \n",
        "            yield (inputs, outputs)\n",
        "\n",
        "# Funkcije zaduzene za trening podataka\n",
        "def ctc_lambda_func(args):\n",
        "    y_pred, labels, input_length, label_length = args\n",
        "    # the 2 is critical here since the first couple outputs of the RNN\n",
        "    # tend to be garbage:\n",
        "    y_pred = y_pred[:, 2:, :]\n",
        "    return K.ctc_batch_cost(labels, y_pred, input_length, label_length)\n",
        "\n",
        "# Funkcija kojoj se prosledjuje sirina slike, broj epoha, \n",
        "# broj sa kojim zelimo da podelimo ~10000 slika koje saljemo svakoj od epoha, i vrsta optimizacije\n",
        "def train(img_w, number_of_epochs, divide_sample_rate, optimization):\n",
        "    # Input Parameters\n",
        "    img_h = 64\n",
        "\n",
        "    # Network parameters\n",
        "    conv_filters = 16\n",
        "    kernel_size = (3, 3)\n",
        "    pool_size = 2\n",
        "    time_dense_size = 32\n",
        "    rnn_size = 512\n",
        "    batch_size = 32\n",
        "    \n",
        "    input_shape = (img_w, img_h, 1)\n",
        "        \n",
        "    downsample_factor = pool_size ** 2\n",
        "    \n",
        "    train_data = TextImageGenerator('/content/data/train', 'train', img_w, img_h, batch_size, downsample_factor)\n",
        "    train_data.prepare_image()\n",
        "    val_data = TextImageGenerator('/content/data/train', 'val', img_w, img_h, batch_size, downsample_factor)\n",
        "    val_data.prepare_image()\n",
        "\n",
        "    act = 'relu'\n",
        "    input_data = Input(name='the_input', shape=input_shape, dtype='float32')\n",
        "    inner = Conv2D(conv_filters, kernel_size, padding='same',\n",
        "                   activation=act, kernel_initializer='he_normal',\n",
        "                   name='conv1')(input_data)\n",
        "    inner = MaxPooling2D(pool_size=(pool_size, pool_size), name='max1')(inner)\n",
        "    inner = Conv2D(conv_filters, kernel_size, padding='same',\n",
        "                   activation=act, kernel_initializer='he_normal',\n",
        "                   name='conv2')(inner)\n",
        "    inner = MaxPooling2D(pool_size=(pool_size, pool_size), name='max2')(inner)\n",
        "\n",
        "    conv_to_rnn_dims = (img_w // (pool_size ** 2), (img_h // (pool_size ** 2)) * conv_filters)\n",
        "    inner = Reshape(target_shape=conv_to_rnn_dims, name='reshape')(inner)\n",
        "\n",
        "    # cuts down input size going into RNN:\n",
        "    inner = Dense(time_dense_size, activation=act, name='dense1')(inner)\n",
        "\n",
        "    # Two layers of bidirecitonal GRUs\n",
        "    # GRU seems to work as well, if not better than LSTM:\n",
        "    gru_1 = GRU(rnn_size, return_sequences=True, kernel_initializer='he_normal', name='gru1')(inner)\n",
        "    gru_1b = GRU(rnn_size, return_sequences=True, go_backwards=True, kernel_initializer='he_normal', name='gru1_b')(inner)\n",
        "    gru1_merged = add([gru_1, gru_1b])\n",
        "    gru_2 = GRU(rnn_size, return_sequences=True, kernel_initializer='he_normal', name='gru2')(gru1_merged)\n",
        "    gru_2b = GRU(rnn_size, return_sequences=True, go_backwards=True, kernel_initializer='he_normal', name='gru2_b')(gru1_merged)\n",
        "\n",
        "    # transforms RNN output to character activations:\n",
        "    inner = Dense(train_data.get_output_size(), kernel_initializer='he_normal',\n",
        "                  name='dense2')(concatenate([gru_2, gru_2b]))\n",
        "    y_pred = Activation('softmax', name='softmax')(inner)\n",
        "    Model(inputs=input_data, outputs=y_pred).summary()\n",
        "\n",
        "    labels = Input(name='the_labels', shape=[train_data.max_text_len], dtype='float32')\n",
        "    input_length = Input(name='input_length', shape=[1], dtype='int64')\n",
        "    label_length = Input(name='label_length', shape=[1], dtype='int64')\n",
        "    # Keras doesn't currently support loss funcs with extra parameters\n",
        "    # so CTC loss is implemented in a lambda layer\n",
        "    loss_out = Lambda(ctc_lambda_func, output_shape=(1,), name='ctc')([y_pred, labels, input_length, label_length])\n",
        "\n",
        "    # clipnorm seems to speeds up convergence\n",
        "    opt = SGD(lr=0.02, decay=1e-6, momentum=0.9, nesterov=True, clipnorm=5)\n",
        "    \n",
        "    if optimization == \"rms\":\n",
        "      opt = RMSprop(lr=0.001, rho=0.9, epsilon=None, decay=0.0)\n",
        "    elif optimization == \"nadam\":\n",
        "      opt = Nadam(lr=0.002, beta_1=0.9, beta_2=0.999, epsilon=None, schedule_decay=0.004)\n",
        "\n",
        "    model = Model(inputs=[input_data, labels, input_length, label_length], outputs=loss_out)\n",
        "\n",
        "    # the loss calc occurs elsewhere, so use a dummy lambda func for the loss\n",
        "    model.compile(loss={'ctc': lambda y_true, y_pred: y_pred}, optimizer=opt, metrics = ['accuracy'])\n",
        "    \n",
        "    # captures output of softmax so we can decode the output during visualization\n",
        "    test_func = K.function([input_data], [y_pred])\n",
        "\n",
        "    history = model.fit_generator(generator=train_data.next_image_group(), \n",
        "                        steps_per_epoch=train_data.n/divide_sample_rate,\n",
        "                        epochs=number_of_epochs, \n",
        "                        validation_data=val_data.next_image_group(), \n",
        "                        validation_steps=val_data.n)\n",
        "\n",
        "    return (history, model)\n",
        "\n",
        "# Funkcija koja dekodira izlaz iz mreze\n",
        "def decode_batch(out):\n",
        "    ret = []\n",
        "    for j in range(out.shape[0]):\n",
        "        out_best = list(np.argmax(out[j, 2:], 1))\n",
        "        out_best = [k for k, g in itertools.groupby(out_best)]\n",
        "        outstr = ''\n",
        "        for c in out_best:\n",
        "            if c < len(all_characters):\n",
        "                outstr += all_characters[c]\n",
        "        ret.append(outstr)\n",
        "    return ret\n",
        "\n",
        "# Funkcija koja graficki pokazuje napredak treninga u odnosu epoha-gubici\n",
        "def plot_history(history):\n",
        "    plt.plot(history.history['loss'])\n",
        "    plt.plot(history.history['val_loss'])\n",
        "    plt.title('model loss')\n",
        "    plt.ylabel('loss')\n",
        "    plt.xlabel('epoch')\n",
        "    plt.legend(['train', 'val'], loc='upper left')\n",
        "    plt.show()\n",
        "\n",
        "# Funkcija koja graficki pokazuje napredak treninga u odnosu epoha-preciznost\n",
        "def plot_acc(model):\n",
        "    plt.plot(model.history['acc'])\n",
        "    plt.plot(model.history['val_acc'])\n",
        "    plt.title('Model accuracy')\n",
        "    plt.ylabel('Accuracy')\n",
        "    plt.xlabel('Epoch')\n",
        "    plt.legend(['Train', 'Test'], loc='upper left')\n",
        "    plt.show()\n",
        "    \n",
        "# Funkcija koja uzima izlaz iz neuronske mreze, dekodira ga,\n",
        "# i zatim prediktuje karaktere za tablice iz nasumicno odabrane grupe tablica\n",
        "def test_function(model):\n",
        "    test_data = TextImageGenerator('/content/data/test', 'test', 128, 64, 8, 4)\n",
        "    test_data.prepare_image()\n",
        "\n",
        "    net_inp = model.get_layer(name='the_input').input\n",
        "    net_out = model.get_layer(name='softmax').output\n",
        "\n",
        "    for inp_value, _ in test_data.next_image_group():\n",
        "        n = inp_value['the_input'].shape[0]\n",
        "        X_data = inp_value['the_input']\n",
        "        net_out_value = sess.run(net_out, feed_dict={net_inp:X_data})\n",
        "        pred_texts = decode_batch(net_out_value)\n",
        "        labels = inp_value['the_labels']\n",
        "\n",
        "        for i in range(n):\n",
        "            print('Predicted characters: %s\\n' % (pred_texts[i],))\n",
        "            img = X_data[i][:, :, 0].T\n",
        "            imgplot = plt.imshow(img, cmap='gray')\n",
        "            plt.show()\n",
        "            print(\"************************************************************************\")\n",
        "        break"
      ],
      "execution_count": 0,
      "outputs": []
    },
    {
      "cell_type": "code",
      "metadata": {
        "id": "UWJxWddn1w_v",
        "colab_type": "code",
        "outputId": "77887f37-e40b-43cf-8e1b-84ec1780b3ff",
        "colab": {
          "base_uri": "https://localhost:8080/",
          "height": 187
        }
      },
      "source": [
        "sess = tf.Session()\n",
        "K.set_session(sess)\n",
        "train_characters = character_validation('/content/data/train', 'train')\n",
        "val_characters = character_validation('/content/data/train', 'val')\n",
        "test_characters = character_validation('/content/data/test', 'test')\n",
        "\n",
        "train_unique = set(train_characters.keys())\n",
        "val_unique = set(val_characters.keys())\n",
        "test_unique = set(test_characters.keys())\n",
        "\n",
        "if train_unique == val_unique and val_unique == test_unique:\n",
        "    print('Characters in train, val and test images do match!\\n')\n",
        "else:\n",
        "    print(\"Characters in train, val and test images don't match!\\n\")\n",
        "    \n",
        "all_characters = sorted(list(train_unique))\n",
        "\n",
        "print('All characters that appear in plates:', ' '.join(all_characters))\n",
        "print(\"\\nInformations that we feed into NN:\\n\")\n",
        "print(\"1. Input image of vechicle registration\")\n",
        "number = [x for x in range(22)]\n",
        "zipped = zip(number, all_characters)\n",
        "encoded = \"\"\n",
        "for e1, e2 in zipped:\n",
        "  encoded += (str(e1))\n",
        "  encoded += ' '\n",
        "print(\"2. Characters from above (encoded respectively): %s\" % encoded)\n",
        "print(\"3. Input length is (image width / 4 - downsample_factor) => 128 / 4 - 2 = 30.\")\n",
        "print(\"4. Plate length which is 8.\")"
      ],
      "execution_count": 10,
      "outputs": [
        {
          "output_type": "stream",
          "text": [
            "Characters in train, val and test images do match!\n",
            "\n",
            "All characters that appear in plates: 0 1 2 3 4 5 6 7 8 9 A B C E H K M O P T X Y\n",
            "\n",
            "Informations that we feed into NN:\n",
            "\n",
            "1. Input image of vechicle registration\n",
            "2. Characters from above (encoded respectively): 0 1 2 3 4 5 6 7 8 9 10 11 12 13 14 15 16 17 18 19 20 21 \n",
            "3. Input length is (image width / 4 - downsample_factor) => 128 / 4 - 2 = 30.\n",
            "4. Plate length which is 8.\n"
          ],
          "name": "stdout"
        }
      ]
    },
    {
      "cell_type": "code",
      "metadata": {
        "id": "PhhKJmRE1ws4",
        "colab_type": "code",
        "outputId": "26393659-facf-4def-9e55-9b9bbde81e3e",
        "colab": {
          "base_uri": "https://localhost:8080/",
          "height": 1394
        }
      },
      "source": [
        "model = train(128, 15, 100, \"sgd\")"
      ],
      "execution_count": 0,
      "outputs": [
        {
          "output_type": "stream",
          "text": [
            "WARNING:tensorflow:From /usr/local/lib/python3.6/dist-packages/tensorflow/python/framework/op_def_library.py:263: colocate_with (from tensorflow.python.framework.ops) is deprecated and will be removed in a future version.\n",
            "Instructions for updating:\n",
            "Colocations handled automatically by placer.\n",
            "__________________________________________________________________________________________________\n",
            "Layer (type)                    Output Shape         Param #     Connected to                     \n",
            "==================================================================================================\n",
            "the_input (InputLayer)          (None, 128, 64, 1)   0                                            \n",
            "__________________________________________________________________________________________________\n",
            "conv1 (Conv2D)                  (None, 128, 64, 16)  160         the_input[0][0]                  \n",
            "__________________________________________________________________________________________________\n",
            "max1 (MaxPooling2D)             (None, 64, 32, 16)   0           conv1[0][0]                      \n",
            "__________________________________________________________________________________________________\n",
            "conv2 (Conv2D)                  (None, 64, 32, 16)   2320        max1[0][0]                       \n",
            "__________________________________________________________________________________________________\n",
            "max2 (MaxPooling2D)             (None, 32, 16, 16)   0           conv2[0][0]                      \n",
            "__________________________________________________________________________________________________\n",
            "reshape (Reshape)               (None, 32, 256)      0           max2[0][0]                       \n",
            "__________________________________________________________________________________________________\n",
            "dense1 (Dense)                  (None, 32, 32)       8224        reshape[0][0]                    \n",
            "__________________________________________________________________________________________________\n",
            "gru1 (GRU)                      (None, 32, 512)      837120      dense1[0][0]                     \n",
            "__________________________________________________________________________________________________\n",
            "gru1_b (GRU)                    (None, 32, 512)      837120      dense1[0][0]                     \n",
            "__________________________________________________________________________________________________\n",
            "add_1 (Add)                     (None, 32, 512)      0           gru1[0][0]                       \n",
            "                                                                 gru1_b[0][0]                     \n",
            "__________________________________________________________________________________________________\n",
            "gru2 (GRU)                      (None, 32, 512)      1574400     add_1[0][0]                      \n",
            "__________________________________________________________________________________________________\n",
            "gru2_b (GRU)                    (None, 32, 512)      1574400     add_1[0][0]                      \n",
            "__________________________________________________________________________________________________\n",
            "concatenate_1 (Concatenate)     (None, 32, 1024)     0           gru2[0][0]                       \n",
            "                                                                 gru2_b[0][0]                     \n",
            "__________________________________________________________________________________________________\n",
            "dense2 (Dense)                  (None, 32, 23)       23575       concatenate_1[0][0]              \n",
            "__________________________________________________________________________________________________\n",
            "softmax (Activation)            (None, 32, 23)       0           dense2[0][0]                     \n",
            "==================================================================================================\n",
            "Total params: 4,857,319\n",
            "Trainable params: 4,857,319\n",
            "Non-trainable params: 0\n",
            "__________________________________________________________________________________________________\n",
            "WARNING:tensorflow:From /usr/local/lib/python3.6/dist-packages/keras/backend/tensorflow_backend.py:4249: to_int32 (from tensorflow.python.ops.math_ops) is deprecated and will be removed in a future version.\n",
            "Instructions for updating:\n",
            "Use tf.cast instead.\n",
            "WARNING:tensorflow:From /usr/local/lib/python3.6/dist-packages/keras/backend/tensorflow_backend.py:4229: to_int64 (from tensorflow.python.ops.math_ops) is deprecated and will be removed in a future version.\n",
            "Instructions for updating:\n",
            "Use tf.cast instead.\n",
            "WARNING:tensorflow:From /usr/local/lib/python3.6/dist-packages/tensorflow/python/ops/math_grad.py:102: div (from tensorflow.python.ops.math_ops) is deprecated and will be removed in a future version.\n",
            "Instructions for updating:\n",
            "Deprecated in favor of operator or tf.math.divide.\n",
            "Epoch 1/15\n",
            "109/108 [==============================] - 912s 8s/step - loss: 28.5811 - acc: 0.0000e+00 - val_loss: 10.6289 - val_acc: 0.0000e+00\n",
            "Epoch 2/15\n",
            "109/108 [==============================] - 902s 8s/step - loss: 3.3413 - acc: 0.1843 - val_loss: 0.3364 - val_acc: 0.8359\n",
            "Epoch 3/15\n",
            "109/108 [==============================] - 911s 8s/step - loss: 0.1255 - acc: 0.9573 - val_loss: 0.0224 - val_acc: 0.9980\n",
            "Epoch 4/15\n",
            "109/108 [==============================] - 904s 8s/step - loss: 0.0145 - acc: 0.9991 - val_loss: 0.0078 - val_acc: 1.0000\n",
            "Epoch 5/15\n",
            "109/108 [==============================] - 901s 8s/step - loss: 0.0065 - acc: 1.0000 - val_loss: 0.0053 - val_acc: 1.0000\n",
            "Epoch 6/15\n",
            "109/108 [==============================] - 901s 8s/step - loss: 0.0047 - acc: 1.0000 - val_loss: 0.0041 - val_acc: 1.0000\n",
            "Epoch 7/15\n",
            "109/108 [==============================] - 899s 8s/step - loss: 0.0037 - acc: 1.0000 - val_loss: 0.0033 - val_acc: 1.0000\n",
            "Epoch 8/15\n",
            "109/108 [==============================] - 901s 8s/step - loss: 0.0030 - acc: 1.0000 - val_loss: 0.0028 - val_acc: 1.0000\n",
            "Epoch 9/15\n",
            "109/108 [==============================] - 900s 8s/step - loss: 0.0026 - acc: 1.0000 - val_loss: 0.0024 - val_acc: 1.0000\n",
            "Epoch 10/15\n",
            "109/108 [==============================] - 896s 8s/step - loss: 0.0022 - acc: 1.0000 - val_loss: 0.0021 - val_acc: 1.0000\n",
            "Epoch 11/15\n",
            "109/108 [==============================] - 899s 8s/step - loss: 0.0020 - acc: 1.0000 - val_loss: 0.0019 - val_acc: 1.0000\n",
            "Epoch 12/15\n",
            "109/108 [==============================] - 908s 8s/step - loss: 0.0018 - acc: 1.0000 - val_loss: 0.0017 - val_acc: 1.0000\n",
            "Epoch 13/15\n",
            "109/108 [==============================] - 902s 8s/step - loss: 0.0016 - acc: 1.0000 - val_loss: 0.0015 - val_acc: 1.0000\n",
            "Epoch 14/15\n",
            "109/108 [==============================] - 899s 8s/step - loss: 0.0015 - acc: 1.0000 - val_loss: 0.0014 - val_acc: 1.0000\n",
            "Epoch 15/15\n",
            "109/108 [==============================] - 898s 8s/step - loss: 0.0014 - acc: 1.0000 - val_loss: 0.0013 - val_acc: 1.0000\n"
          ],
          "name": "stdout"
        }
      ]
    },
    {
      "cell_type": "code",
      "metadata": {
        "id": "SgsDs9JUDbyH",
        "colab_type": "code",
        "outputId": "0ca2f833-2672-4009-b806-235f00a455c0",
        "colab": {
          "base_uri": "https://localhost:8080/",
          "height": 295
        }
      },
      "source": [
        "plot_history(model[0])"
      ],
      "execution_count": 0,
      "outputs": [
        {
          "output_type": "display_data",
          "data": {
            "image/png": "[encoded data removed]",
            "text/plain": [
              "<Figure size 432x288 with 1 Axes>"
            ]
          },
          "metadata": {
            "tags": []
          }
        }
      ]
    },
    {
      "cell_type": "code",
      "metadata": {
        "id": "xzkKXNwwDbkJ",
        "colab_type": "code",
        "outputId": "5b73842d-c6d8-4a83-8ef9-2324e8ae651c",
        "colab": {
          "base_uri": "https://localhost:8080/",
          "height": 295
        }
      },
      "source": [
        "plot_acc(model[0])"
      ],
      "execution_count": 0,
      "outputs": [
        {
          "output_type": "display_data",
          "data": {
            "image/png": "[encoded data removed]",
            "text/plain": [
              "<Figure size 432x288 with 1 Axes>"
            ]
          },
          "metadata": {
            "tags": []
          }
        }
      ]
    },
    {
      "cell_type": "code",
      "metadata": {
        "id": "UEAk4aLma4lU",
        "colab_type": "code",
        "colab": {}
      },
      "source": [
        "test_function(model[1])"
      ],
      "execution_count": 0,
      "outputs": []
    },
    {
      "cell_type": "code",
      "metadata": {
        "id": "uW2NWJqma7Y_",
        "colab_type": "code",
        "outputId": "766a6a8c-b322-4f6a-96f1-022b397a56dc",
        "colab": {
          "base_uri": "https://localhost:8080/",
          "height": 1346
        }
      },
      "source": [
        "SVG(model_to_dot(model[1]).create(prog='dot', format='svg'))"
      ],
      "execution_count": 0,
      "outputs": [
        {
          "output_type": "execute_result",
          "data": {
            "text/plain": [
              "<IPython.core.display.SVG object>"
            ],
            "image/svg+xml": "<svg height=\"994pt\" viewBox=\"0.00 0.00 686.00 994.00\" width=\"686pt\" xmlns=\"http://www.w3.org/2000/svg\" xmlns:xlink=\"http://www.w3.org/1999/xlink\">\n<g class=\"graph\" id=\"graph0\" transform=\"scale(1 1) rotate(0) translate(4 990)\">\n<title>G</title>\n<polygon fill=\"#ffffff\" points=\"-4,4 -4,-990 682,-990 682,4 -4,4\" stroke=\"transparent\"/>\n<!-- 140281800007976 -->\n<g class=\"node\" id=\"node1\">\n<title>140281800007976</title>\n<polygon fill=\"none\" points=\"23.5,-949.5 23.5,-985.5 166.5,-985.5 166.5,-949.5 23.5,-949.5\" stroke=\"#000000\"/>\n<text fill=\"#000000\" font-family=\"Times,serif\" font-size=\"14.00\" text-anchor=\"middle\" x=\"95\" y=\"-963.8\">the_input: InputLayer</text>\n</g>\n<!-- 140281800406240 -->\n<g class=\"node\" id=\"node2\">\n<title>140281800406240</title>\n<polygon fill=\"none\" points=\"40,-876.5 40,-912.5 150,-912.5 150,-876.5 40,-876.5\" stroke=\"#000000\"/>\n<text fill=\"#000000\" font-family=\"Times,serif\" font-size=\"14.00\" text-anchor=\"middle\" x=\"95\" y=\"-890.8\">conv1: Conv2D</text>\n</g>\n<!-- 140281800007976&#45;&gt;140281800406240 -->\n<g class=\"edge\" id=\"edge1\">\n<title>140281800007976-&gt;140281800406240</title>\n<path d=\"M95,-949.4551C95,-941.3828 95,-931.6764 95,-922.6817\" fill=\"none\" stroke=\"#000000\"/>\n<polygon fill=\"#000000\" points=\"98.5001,-922.5903 95,-912.5904 91.5001,-922.5904 98.5001,-922.5903\" stroke=\"#000000\"/>\n</g>\n<!-- 140281800010104 -->\n<g class=\"node\" id=\"node3\">\n<title>140281800010104</title>\n<polygon fill=\"none\" points=\"22,-803.5 22,-839.5 168,-839.5 168,-803.5 22,-803.5\" stroke=\"#000000\"/>\n<text fill=\"#000000\" font-family=\"Times,serif\" font-size=\"14.00\" text-anchor=\"middle\" x=\"95\" y=\"-817.8\">max1: MaxPooling2D</text>\n</g>\n<!-- 140281800406240&#45;&gt;140281800010104 -->\n<g class=\"edge\" id=\"edge2\">\n<title>140281800406240-&gt;140281800010104</title>\n<path d=\"M95,-876.4551C95,-868.3828 95,-858.6764 95,-849.6817\" fill=\"none\" stroke=\"#000000\"/>\n<polygon fill=\"#000000\" points=\"98.5001,-849.5903 95,-839.5904 91.5001,-849.5904 98.5001,-849.5903\" stroke=\"#000000\"/>\n</g>\n<!-- 140281793052856 -->\n<g class=\"node\" id=\"node4\">\n<title>140281793052856</title>\n<polygon fill=\"none\" points=\"40,-730.5 40,-766.5 150,-766.5 150,-730.5 40,-730.5\" stroke=\"#000000\"/>\n<text fill=\"#000000\" font-family=\"Times,serif\" font-size=\"14.00\" text-anchor=\"middle\" x=\"95\" y=\"-744.8\">conv2: Conv2D</text>\n</g>\n<!-- 140281800010104&#45;&gt;140281793052856 -->\n<g class=\"edge\" id=\"edge3\">\n<title>140281800010104-&gt;140281793052856</title>\n<path d=\"M95,-803.4551C95,-795.3828 95,-785.6764 95,-776.6817\" fill=\"none\" stroke=\"#000000\"/>\n<polygon fill=\"#000000\" points=\"98.5001,-776.5903 95,-766.5904 91.5001,-776.5904 98.5001,-776.5903\" stroke=\"#000000\"/>\n</g>\n<!-- 140280421236016 -->\n<g class=\"node\" id=\"node5\">\n<title>140280421236016</title>\n<polygon fill=\"none\" points=\"22,-657.5 22,-693.5 168,-693.5 168,-657.5 22,-657.5\" stroke=\"#000000\"/>\n<text fill=\"#000000\" font-family=\"Times,serif\" font-size=\"14.00\" text-anchor=\"middle\" x=\"95\" y=\"-671.8\">max2: MaxPooling2D</text>\n</g>\n<!-- 140281793052856&#45;&gt;140280421236016 -->\n<g class=\"edge\" id=\"edge4\">\n<title>140281793052856-&gt;140280421236016</title>\n<path d=\"M95,-730.4551C95,-722.3828 95,-712.6764 95,-703.6817\" fill=\"none\" stroke=\"#000000\"/>\n<polygon fill=\"#000000\" points=\"98.5001,-703.5903 95,-693.5904 91.5001,-703.5904 98.5001,-703.5903\" stroke=\"#000000\"/>\n</g>\n<!-- 140280421236296 -->\n<g class=\"node\" id=\"node6\">\n<title>140280421236296</title>\n<polygon fill=\"none\" points=\"37.5,-584.5 37.5,-620.5 152.5,-620.5 152.5,-584.5 37.5,-584.5\" stroke=\"#000000\"/>\n<text fill=\"#000000\" font-family=\"Times,serif\" font-size=\"14.00\" text-anchor=\"middle\" x=\"95\" y=\"-598.8\">reshape: Reshape</text>\n</g>\n<!-- 140280421236016&#45;&gt;140280421236296 -->\n<g class=\"edge\" id=\"edge5\">\n<title>140280421236016-&gt;140280421236296</title>\n<path d=\"M95,-657.4551C95,-649.3828 95,-639.6764 95,-630.6817\" fill=\"none\" stroke=\"#000000\"/>\n<polygon fill=\"#000000\" points=\"98.5001,-630.5903 95,-620.5904 91.5001,-630.5904 98.5001,-630.5903\" stroke=\"#000000\"/>\n</g>\n<!-- 140280421236352 -->\n<g class=\"node\" id=\"node7\">\n<title>140280421236352</title>\n<polygon fill=\"none\" points=\"45.5,-511.5 45.5,-547.5 144.5,-547.5 144.5,-511.5 45.5,-511.5\" stroke=\"#000000\"/>\n<text fill=\"#000000\" font-family=\"Times,serif\" font-size=\"14.00\" text-anchor=\"middle\" x=\"95\" y=\"-525.8\">dense1: Dense</text>\n</g>\n<!-- 140280421236296&#45;&gt;140280421236352 -->\n<g class=\"edge\" id=\"edge6\">\n<title>140280421236296-&gt;140280421236352</title>\n<path d=\"M95,-584.4551C95,-576.3828 95,-566.6764 95,-557.6817\" fill=\"none\" stroke=\"#000000\"/>\n<polygon fill=\"#000000\" points=\"98.5001,-557.5903 95,-547.5904 91.5001,-557.5904 98.5001,-557.5903\" stroke=\"#000000\"/>\n</g>\n<!-- 140280079478512 -->\n<g class=\"node\" id=\"node8\">\n<title>140280079478512</title>\n<polygon fill=\"none\" points=\"0,-438.5 0,-474.5 82,-474.5 82,-438.5 0,-438.5\" stroke=\"#000000\"/>\n<text fill=\"#000000\" font-family=\"Times,serif\" font-size=\"14.00\" text-anchor=\"middle\" x=\"41\" y=\"-452.8\">gru1: GRU</text>\n</g>\n<!-- 140280421236352&#45;&gt;140280079478512 -->\n<g class=\"edge\" id=\"edge7\">\n<title>140280421236352-&gt;140280079478512</title>\n<path d=\"M81.6517,-511.4551C75.2261,-502.7686 67.4007,-492.1898 60.3379,-482.642\" fill=\"none\" stroke=\"#000000\"/>\n<polygon fill=\"#000000\" points=\"63.1428,-480.5484 54.3819,-474.5904 57.5151,-484.7113 63.1428,-480.5484\" stroke=\"#000000\"/>\n</g>\n<!-- 140280076628824 -->\n<g class=\"node\" id=\"node9\">\n<title>140280076628824</title>\n<polygon fill=\"none\" points=\"100.5,-438.5 100.5,-474.5 197.5,-474.5 197.5,-438.5 100.5,-438.5\" stroke=\"#000000\"/>\n<text fill=\"#000000\" font-family=\"Times,serif\" font-size=\"14.00\" text-anchor=\"middle\" x=\"149\" y=\"-452.8\">gru1_b: GRU</text>\n</g>\n<!-- 140280421236352&#45;&gt;140280076628824 -->\n<g class=\"edge\" id=\"edge8\">\n<title>140280421236352-&gt;140280076628824</title>\n<path d=\"M108.3483,-511.4551C114.7739,-502.7686 122.5993,-492.1898 129.6621,-482.642\" fill=\"none\" stroke=\"#000000\"/>\n<polygon fill=\"#000000\" points=\"132.4849,-484.7113 135.6181,-474.5904 126.8572,-480.5484 132.4849,-484.7113\" stroke=\"#000000\"/>\n</g>\n<!-- 140280075084632 -->\n<g class=\"node\" id=\"node10\">\n<title>140280075084632</title>\n<polygon fill=\"none\" points=\"52.5,-365.5 52.5,-401.5 137.5,-401.5 137.5,-365.5 52.5,-365.5\" stroke=\"#000000\"/>\n<text fill=\"#000000\" font-family=\"Times,serif\" font-size=\"14.00\" text-anchor=\"middle\" x=\"95\" y=\"-379.8\">add_1: Add</text>\n</g>\n<!-- 140280079478512&#45;&gt;140280075084632 -->\n<g class=\"edge\" id=\"edge9\">\n<title>140280079478512-&gt;140280075084632</title>\n<path d=\"M54.3483,-438.4551C60.7739,-429.7686 68.5993,-419.1898 75.6621,-409.642\" fill=\"none\" stroke=\"#000000\"/>\n<polygon fill=\"#000000\" points=\"78.4849,-411.7113 81.6181,-401.5904 72.8572,-407.5484 78.4849,-411.7113\" stroke=\"#000000\"/>\n</g>\n<!-- 140280076628824&#45;&gt;140280075084632 -->\n<g class=\"edge\" id=\"edge10\">\n<title>140280076628824-&gt;140280075084632</title>\n<path d=\"M135.6517,-438.4551C129.2261,-429.7686 121.4007,-419.1898 114.3379,-409.642\" fill=\"none\" stroke=\"#000000\"/>\n<polygon fill=\"#000000\" points=\"117.1428,-407.5484 108.3819,-401.5904 111.5151,-411.7113 117.1428,-407.5484\" stroke=\"#000000\"/>\n</g>\n<!-- 140280075087376 -->\n<g class=\"node\" id=\"node11\">\n<title>140280075087376</title>\n<polygon fill=\"none\" points=\"0,-292.5 0,-328.5 82,-328.5 82,-292.5 0,-292.5\" stroke=\"#000000\"/>\n<text fill=\"#000000\" font-family=\"Times,serif\" font-size=\"14.00\" text-anchor=\"middle\" x=\"41\" y=\"-306.8\">gru2: GRU</text>\n</g>\n<!-- 140280075084632&#45;&gt;140280075087376 -->\n<g class=\"edge\" id=\"edge11\">\n<title>140280075084632-&gt;140280075087376</title>\n<path d=\"M81.6517,-365.4551C75.2261,-356.7686 67.4007,-346.1898 60.3379,-336.642\" fill=\"none\" stroke=\"#000000\"/>\n<polygon fill=\"#000000\" points=\"63.1428,-334.5484 54.3819,-328.5904 57.5151,-338.7113 63.1428,-334.5484\" stroke=\"#000000\"/>\n</g>\n<!-- 140279628714112 -->\n<g class=\"node\" id=\"node12\">\n<title>140279628714112</title>\n<polygon fill=\"none\" points=\"100.5,-292.5 100.5,-328.5 197.5,-328.5 197.5,-292.5 100.5,-292.5\" stroke=\"#000000\"/>\n<text fill=\"#000000\" font-family=\"Times,serif\" font-size=\"14.00\" text-anchor=\"middle\" x=\"149\" y=\"-306.8\">gru2_b: GRU</text>\n</g>\n<!-- 140280075084632&#45;&gt;140279628714112 -->\n<g class=\"edge\" id=\"edge12\">\n<title>140280075084632-&gt;140279628714112</title>\n<path d=\"M108.3483,-365.4551C114.7739,-356.7686 122.5993,-346.1898 129.6621,-336.642\" fill=\"none\" stroke=\"#000000\"/>\n<polygon fill=\"#000000\" points=\"132.4849,-338.7113 135.6181,-328.5904 126.8572,-334.5484 132.4849,-338.7113\" stroke=\"#000000\"/>\n</g>\n<!-- 140279625375304 -->\n<g class=\"node\" id=\"node13\">\n<title>140279625375304</title>\n<polygon fill=\"none\" points=\"7.5,-219.5 7.5,-255.5 182.5,-255.5 182.5,-219.5 7.5,-219.5\" stroke=\"#000000\"/>\n<text fill=\"#000000\" font-family=\"Times,serif\" font-size=\"14.00\" text-anchor=\"middle\" x=\"95\" y=\"-233.8\">concatenate_1: Concatenate</text>\n</g>\n<!-- 140280075087376&#45;&gt;140279625375304 -->\n<g class=\"edge\" id=\"edge13\">\n<title>140280075087376-&gt;140279625375304</title>\n<path d=\"M54.3483,-292.4551C60.7739,-283.7686 68.5993,-273.1898 75.6621,-263.642\" fill=\"none\" stroke=\"#000000\"/>\n<polygon fill=\"#000000\" points=\"78.4849,-265.7113 81.6181,-255.5904 72.8572,-261.5484 78.4849,-265.7113\" stroke=\"#000000\"/>\n</g>\n<!-- 140279628714112&#45;&gt;140279625375304 -->\n<g class=\"edge\" id=\"edge14\">\n<title>140279628714112-&gt;140279625375304</title>\n<path d=\"M135.6517,-292.4551C129.2261,-283.7686 121.4007,-273.1898 114.3379,-263.642\" fill=\"none\" stroke=\"#000000\"/>\n<polygon fill=\"#000000\" points=\"117.1428,-261.5484 108.3819,-255.5904 111.5151,-265.7113 117.1428,-261.5484\" stroke=\"#000000\"/>\n</g>\n<!-- 140279627296104 -->\n<g class=\"node\" id=\"node14\">\n<title>140279627296104</title>\n<polygon fill=\"none\" points=\"45.5,-146.5 45.5,-182.5 144.5,-182.5 144.5,-146.5 45.5,-146.5\" stroke=\"#000000\"/>\n<text fill=\"#000000\" font-family=\"Times,serif\" font-size=\"14.00\" text-anchor=\"middle\" x=\"95\" y=\"-160.8\">dense2: Dense</text>\n</g>\n<!-- 140279625375304&#45;&gt;140279627296104 -->\n<g class=\"edge\" id=\"edge15\">\n<title>140279625375304-&gt;140279627296104</title>\n<path d=\"M95,-219.4551C95,-211.3828 95,-201.6764 95,-192.6817\" fill=\"none\" stroke=\"#000000\"/>\n<polygon fill=\"#000000\" points=\"98.5001,-192.5903 95,-182.5904 91.5001,-192.5904 98.5001,-192.5903\" stroke=\"#000000\"/>\n</g>\n<!-- 140279625375360 -->\n<g class=\"node\" id=\"node15\">\n<title>140279625375360</title>\n<polygon fill=\"none\" points=\"30.5,-73.5 30.5,-109.5 159.5,-109.5 159.5,-73.5 30.5,-73.5\" stroke=\"#000000\"/>\n<text fill=\"#000000\" font-family=\"Times,serif\" font-size=\"14.00\" text-anchor=\"middle\" x=\"95\" y=\"-87.8\">softmax: Activation</text>\n</g>\n<!-- 140279627296104&#45;&gt;140279625375360 -->\n<g class=\"edge\" id=\"edge16\">\n<title>140279627296104-&gt;140279625375360</title>\n<path d=\"M95,-146.4551C95,-138.3828 95,-128.6764 95,-119.6817\" fill=\"none\" stroke=\"#000000\"/>\n<polygon fill=\"#000000\" points=\"98.5001,-119.5903 95,-109.5904 91.5001,-119.5904 98.5001,-119.5903\" stroke=\"#000000\"/>\n</g>\n<!-- 140279624047192 -->\n<g class=\"node\" id=\"node19\">\n<title>140279624047192</title>\n<polygon fill=\"none\" points=\"291.5,-.5 291.5,-36.5 378.5,-36.5 378.5,-.5 291.5,-.5\" stroke=\"#000000\"/>\n<text fill=\"#000000\" font-family=\"Times,serif\" font-size=\"14.00\" text-anchor=\"middle\" x=\"335\" y=\"-14.8\">ctc: Lambda</text>\n</g>\n<!-- 140279625375360&#45;&gt;140279624047192 -->\n<g class=\"edge\" id=\"edge17\">\n<title>140279625375360-&gt;140279624047192</title>\n<path d=\"M154.3259,-73.4551C193.3175,-61.5951 243.9071,-46.2074 281.6325,-34.7326\" fill=\"none\" stroke=\"#000000\"/>\n<polygon fill=\"#000000\" points=\"282.8717,-38.0141 291.4204,-31.7555 280.8347,-31.317 282.8717,-38.0141\" stroke=\"#000000\"/>\n</g>\n<!-- 140279624048424 -->\n<g class=\"node\" id=\"node16\">\n<title>140279624048424</title>\n<polygon fill=\"none\" points=\"177.5,-73.5 177.5,-109.5 322.5,-109.5 322.5,-73.5 177.5,-73.5\" stroke=\"#000000\"/>\n<text fill=\"#000000\" font-family=\"Times,serif\" font-size=\"14.00\" text-anchor=\"middle\" x=\"250\" y=\"-87.8\">the_labels: InputLayer</text>\n</g>\n<!-- 140279624048424&#45;&gt;140279624047192 -->\n<g class=\"edge\" id=\"edge18\">\n<title>140279624048424-&gt;140279624047192</title>\n<path d=\"M271.0112,-73.4551C281.6364,-64.3299 294.6932,-53.1165 306.2355,-43.2036\" fill=\"none\" stroke=\"#000000\"/>\n<polygon fill=\"#000000\" points=\"308.6299,-45.7609 313.9359,-36.5904 304.0692,-40.4505 308.6299,-45.7609\" stroke=\"#000000\"/>\n</g>\n<!-- 140279624048368 -->\n<g class=\"node\" id=\"node17\">\n<title>140279624048368</title>\n<polygon fill=\"none\" points=\"340.5,-73.5 340.5,-109.5 501.5,-109.5 501.5,-73.5 340.5,-73.5\" stroke=\"#000000\"/>\n<text fill=\"#000000\" font-family=\"Times,serif\" font-size=\"14.00\" text-anchor=\"middle\" x=\"421\" y=\"-87.8\">input_length: InputLayer</text>\n</g>\n<!-- 140279624048368&#45;&gt;140279624047192 -->\n<g class=\"edge\" id=\"edge19\">\n<title>140279624048368-&gt;140279624047192</title>\n<path d=\"M399.7416,-73.4551C388.9914,-64.3299 375.781,-53.1165 364.1029,-43.2036\" fill=\"none\" stroke=\"#000000\"/>\n<polygon fill=\"#000000\" points=\"366.2007,-40.3934 356.3119,-36.5904 361.6707,-45.7301 366.2007,-40.3934\" stroke=\"#000000\"/>\n</g>\n<!-- 140279624045792 -->\n<g class=\"node\" id=\"node18\">\n<title>140279624045792</title>\n<polygon fill=\"none\" points=\"520,-73.5 520,-109.5 678,-109.5 678,-73.5 520,-73.5\" stroke=\"#000000\"/>\n<text fill=\"#000000\" font-family=\"Times,serif\" font-size=\"14.00\" text-anchor=\"middle\" x=\"599\" y=\"-87.8\">label_length: InputLayer</text>\n</g>\n<!-- 140279624045792&#45;&gt;140279624047192 -->\n<g class=\"edge\" id=\"edge20\">\n<title>140279624045792-&gt;140279624047192</title>\n<path d=\"M533.7416,-73.4551C489.0722,-61.1033 430.5649,-44.9252 388.6167,-33.3258\" fill=\"none\" stroke=\"#000000\"/>\n<polygon fill=\"#000000\" points=\"389.4339,-29.9205 378.8628,-30.6287 387.5683,-36.6673 389.4339,-29.9205\" stroke=\"#000000\"/>\n</g>\n</g>\n</svg>"
          },
          "metadata": {
            "tags": []
          },
          "execution_count": 24
        }
      ]
    },
    {
      "cell_type": "code",
      "metadata": {
        "id": "eYzcOMD8a8bv",
        "colab_type": "code",
        "outputId": "e7b954f5-1bb6-43c4-a696-547530569dea",
        "colab": {
          "base_uri": "https://localhost:8080/",
          "height": 748
        }
      },
      "source": [
        "model1 = train(128, 2, 1, \"sgd\")"
      ],
      "execution_count": 0,
      "outputs": [
        {
          "output_type": "stream",
          "text": [
            "__________________________________________________________________________________________________\n",
            "Layer (type)                    Output Shape         Param #     Connected to                     \n",
            "==================================================================================================\n",
            "the_input (InputLayer)          (None, 128, 64, 1)   0                                            \n",
            "__________________________________________________________________________________________________\n",
            "conv1 (Conv2D)                  (None, 128, 64, 16)  160         the_input[0][0]                  \n",
            "__________________________________________________________________________________________________\n",
            "max1 (MaxPooling2D)             (None, 64, 32, 16)   0           conv1[0][0]                      \n",
            "__________________________________________________________________________________________________\n",
            "conv2 (Conv2D)                  (None, 64, 32, 16)   2320        max1[0][0]                       \n",
            "__________________________________________________________________________________________________\n",
            "max2 (MaxPooling2D)             (None, 32, 16, 16)   0           conv2[0][0]                      \n",
            "__________________________________________________________________________________________________\n",
            "reshape (Reshape)               (None, 32, 256)      0           max2[0][0]                       \n",
            "__________________________________________________________________________________________________\n",
            "dense1 (Dense)                  (None, 32, 32)       8224        reshape[0][0]                    \n",
            "__________________________________________________________________________________________________\n",
            "gru1 (GRU)                      (None, 32, 512)      837120      dense1[0][0]                     \n",
            "__________________________________________________________________________________________________\n",
            "gru1_b (GRU)                    (None, 32, 512)      837120      dense1[0][0]                     \n",
            "__________________________________________________________________________________________________\n",
            "add_3 (Add)                     (None, 32, 512)      0           gru1[0][0]                       \n",
            "                                                                 gru1_b[0][0]                     \n",
            "__________________________________________________________________________________________________\n",
            "gru2 (GRU)                      (None, 32, 512)      1574400     add_3[0][0]                      \n",
            "__________________________________________________________________________________________________\n",
            "gru2_b (GRU)                    (None, 32, 512)      1574400     add_3[0][0]                      \n",
            "__________________________________________________________________________________________________\n",
            "concatenate_3 (Concatenate)     (None, 32, 1024)     0           gru2[0][0]                       \n",
            "                                                                 gru2_b[0][0]                     \n",
            "__________________________________________________________________________________________________\n",
            "dense2 (Dense)                  (None, 32, 23)       23575       concatenate_3[0][0]              \n",
            "__________________________________________________________________________________________________\n",
            "softmax (Activation)            (None, 32, 23)       0           dense2[0][0]                     \n",
            "==================================================================================================\n",
            "Total params: 4,857,319\n",
            "Trainable params: 4,857,319\n",
            "Non-trainable params: 0\n",
            "__________________________________________________________________________________________________\n",
            "Epoch 1/2\n",
            "10821/10821 [==============================] - 2653s 245ms/step - loss: 1.4042 - acc: 0.8358 - val_loss: 2.6241e-04 - val_acc: 1.0000\n",
            "Epoch 2/2\n",
            "10821/10821 [==============================] - 2628s 243ms/step - loss: 2.0741e-04 - acc: 1.0000 - val_loss: 1.7319e-04 - val_acc: 1.0000\n"
          ],
          "name": "stdout"
        }
      ]
    },
    {
      "cell_type": "code",
      "metadata": {
        "id": "euuPlc9Q2Utx",
        "colab_type": "code",
        "colab": {}
      },
      "source": [
        "test_function(model1[1])"
      ],
      "execution_count": 0,
      "outputs": []
    },
    {
      "cell_type": "code",
      "metadata": {
        "id": "4XoQmxJSa15j",
        "colab_type": "code",
        "outputId": "4e02f2e2-3493-4deb-9f2a-307916800024",
        "colab": {
          "base_uri": "https://localhost:8080/",
          "height": 952
        }
      },
      "source": [
        "model2 = train(128, 2, 1, \"rms\")"
      ],
      "execution_count": 0,
      "outputs": [
        {
          "output_type": "stream",
          "text": [
            "WARNING:tensorflow:From /usr/local/lib/python3.6/dist-packages/tensorflow/python/framework/op_def_library.py:263: colocate_with (from tensorflow.python.framework.ops) is deprecated and will be removed in a future version.\n",
            "Instructions for updating:\n",
            "Colocations handled automatically by placer.\n",
            "__________________________________________________________________________________________________\n",
            "Layer (type)                    Output Shape         Param #     Connected to                     \n",
            "==================================================================================================\n",
            "the_input (InputLayer)          (None, 128, 64, 1)   0                                            \n",
            "__________________________________________________________________________________________________\n",
            "conv1 (Conv2D)                  (None, 128, 64, 16)  160         the_input[0][0]                  \n",
            "__________________________________________________________________________________________________\n",
            "max1 (MaxPooling2D)             (None, 64, 32, 16)   0           conv1[0][0]                      \n",
            "__________________________________________________________________________________________________\n",
            "conv2 (Conv2D)                  (None, 64, 32, 16)   2320        max1[0][0]                       \n",
            "__________________________________________________________________________________________________\n",
            "max2 (MaxPooling2D)             (None, 32, 16, 16)   0           conv2[0][0]                      \n",
            "__________________________________________________________________________________________________\n",
            "reshape (Reshape)               (None, 32, 256)      0           max2[0][0]                       \n",
            "__________________________________________________________________________________________________\n",
            "dense1 (Dense)                  (None, 32, 32)       8224        reshape[0][0]                    \n",
            "__________________________________________________________________________________________________\n",
            "gru1 (GRU)                      (None, 32, 512)      837120      dense1[0][0]                     \n",
            "__________________________________________________________________________________________________\n",
            "gru1_b (GRU)                    (None, 32, 512)      837120      dense1[0][0]                     \n",
            "__________________________________________________________________________________________________\n",
            "add_1 (Add)                     (None, 32, 512)      0           gru1[0][0]                       \n",
            "                                                                 gru1_b[0][0]                     \n",
            "__________________________________________________________________________________________________\n",
            "gru2 (GRU)                      (None, 32, 512)      1574400     add_1[0][0]                      \n",
            "__________________________________________________________________________________________________\n",
            "gru2_b (GRU)                    (None, 32, 512)      1574400     add_1[0][0]                      \n",
            "__________________________________________________________________________________________________\n",
            "concatenate_1 (Concatenate)     (None, 32, 1024)     0           gru2[0][0]                       \n",
            "                                                                 gru2_b[0][0]                     \n",
            "__________________________________________________________________________________________________\n",
            "dense2 (Dense)                  (None, 32, 23)       23575       concatenate_1[0][0]              \n",
            "__________________________________________________________________________________________________\n",
            "softmax (Activation)            (None, 32, 23)       0           dense2[0][0]                     \n",
            "==================================================================================================\n",
            "Total params: 4,857,319\n",
            "Trainable params: 4,857,319\n",
            "Non-trainable params: 0\n",
            "__________________________________________________________________________________________________\n",
            "WARNING:tensorflow:From /usr/local/lib/python3.6/dist-packages/keras/backend/tensorflow_backend.py:4249: to_int32 (from tensorflow.python.ops.math_ops) is deprecated and will be removed in a future version.\n",
            "Instructions for updating:\n",
            "Use tf.cast instead.\n",
            "WARNING:tensorflow:From /usr/local/lib/python3.6/dist-packages/keras/backend/tensorflow_backend.py:4229: to_int64 (from tensorflow.python.ops.math_ops) is deprecated and will be removed in a future version.\n",
            "Instructions for updating:\n",
            "Use tf.cast instead.\n",
            "WARNING:tensorflow:From /usr/local/lib/python3.6/dist-packages/tensorflow/python/ops/math_grad.py:102: div (from tensorflow.python.ops.math_ops) is deprecated and will be removed in a future version.\n",
            "Instructions for updating:\n",
            "Deprecated in favor of operator or tf.math.divide.\n",
            "Epoch 1/2\n",
            "10821/10821 [==============================] - 2621s 242ms/step - loss: 1.0275 - acc: 0.9463 - val_loss: 6.5135e-05 - val_acc: 1.0000\n",
            "Epoch 2/2\n",
            "10821/10821 [==============================] - 2628s 243ms/step - loss: 6.5104e-05 - acc: 1.0000 - val_loss: 6.5078e-05 - val_acc: 1.0000\n"
          ],
          "name": "stdout"
        }
      ]
    },
    {
      "cell_type": "code",
      "metadata": {
        "id": "gVnJpPZ0pCeH",
        "colab_type": "code",
        "colab": {}
      },
      "source": [
        "test_function(model2[1])"
      ],
      "execution_count": 0,
      "outputs": []
    },
    {
      "cell_type": "code",
      "metadata": {
        "id": "pQDNIRfUodnh",
        "colab_type": "code",
        "outputId": "4755e1e0-f388-4c51-ffd4-7b7ec5204836",
        "colab": {
          "base_uri": "https://localhost:8080/",
          "height": 748
        }
      },
      "source": [
        "model3 = train(128, 2, 1, \"nadam\")"
      ],
      "execution_count": 0,
      "outputs": [
        {
          "output_type": "stream",
          "text": [
            "__________________________________________________________________________________________________\n",
            "Layer (type)                    Output Shape         Param #     Connected to                     \n",
            "==================================================================================================\n",
            "the_input (InputLayer)          (None, 128, 64, 1)   0                                            \n",
            "__________________________________________________________________________________________________\n",
            "conv1 (Conv2D)                  (None, 128, 64, 16)  160         the_input[0][0]                  \n",
            "__________________________________________________________________________________________________\n",
            "max1 (MaxPooling2D)             (None, 64, 32, 16)   0           conv1[0][0]                      \n",
            "__________________________________________________________________________________________________\n",
            "conv2 (Conv2D)                  (None, 64, 32, 16)   2320        max1[0][0]                       \n",
            "__________________________________________________________________________________________________\n",
            "max2 (MaxPooling2D)             (None, 32, 16, 16)   0           conv2[0][0]                      \n",
            "__________________________________________________________________________________________________\n",
            "reshape (Reshape)               (None, 32, 256)      0           max2[0][0]                       \n",
            "__________________________________________________________________________________________________\n",
            "dense1 (Dense)                  (None, 32, 32)       8224        reshape[0][0]                    \n",
            "__________________________________________________________________________________________________\n",
            "gru1 (GRU)                      (None, 32, 512)      837120      dense1[0][0]                     \n",
            "__________________________________________________________________________________________________\n",
            "gru1_b (GRU)                    (None, 32, 512)      837120      dense1[0][0]                     \n",
            "__________________________________________________________________________________________________\n",
            "add_2 (Add)                     (None, 32, 512)      0           gru1[0][0]                       \n",
            "                                                                 gru1_b[0][0]                     \n",
            "__________________________________________________________________________________________________\n",
            "gru2 (GRU)                      (None, 32, 512)      1574400     add_2[0][0]                      \n",
            "__________________________________________________________________________________________________\n",
            "gru2_b (GRU)                    (None, 32, 512)      1574400     add_2[0][0]                      \n",
            "__________________________________________________________________________________________________\n",
            "concatenate_2 (Concatenate)     (None, 32, 1024)     0           gru2[0][0]                       \n",
            "                                                                 gru2_b[0][0]                     \n",
            "__________________________________________________________________________________________________\n",
            "dense2 (Dense)                  (None, 32, 23)       23575       concatenate_2[0][0]              \n",
            "__________________________________________________________________________________________________\n",
            "softmax (Activation)            (None, 32, 23)       0           dense2[0][0]                     \n",
            "==================================================================================================\n",
            "Total params: 4,857,319\n",
            "Trainable params: 4,857,319\n",
            "Non-trainable params: 0\n",
            "__________________________________________________________________________________________________\n",
            "Epoch 1/2\n",
            "10821/10821 [==============================] - 2652s 245ms/step - loss: 0.7032 - acc: 0.9651 - val_loss: 6.8164e-05 - val_acc: 1.0000\n",
            "Epoch 2/2\n",
            "10821/10821 [==============================] - 2638s 244ms/step - loss: 6.5797e-05 - acc: 1.0000 - val_loss: 6.5198e-05 - val_acc: 1.0000\n"
          ],
          "name": "stdout"
        }
      ]
    },
    {
      "cell_type": "code",
      "metadata": {
        "id": "8Em7ZluipCz9",
        "colab_type": "code",
        "colab": {}
      },
      "source": [
        "test_function(model3[1])"
      ],
      "execution_count": 0,
      "outputs": []
    },
    {
      "cell_type": "code",
      "metadata": {
        "id": "7LH4RJZyfzU6",
        "colab_type": "code",
        "colab": {
          "base_uri": "https://localhost:8080/",
          "height": 918
        },
        "outputId": "0cafef23-0d0c-4fcf-8829-2eb076618c73"
      },
      "source": [
        "model4 = train(128, 1, 1, \"sgd\")"
      ],
      "execution_count": 12,
      "outputs": [
        {
          "output_type": "stream",
          "text": [
            "WARNING:tensorflow:From /usr/local/lib/python3.6/dist-packages/tensorflow/python/framework/op_def_library.py:263: colocate_with (from tensorflow.python.framework.ops) is deprecated and will be removed in a future version.\n",
            "Instructions for updating:\n",
            "Colocations handled automatically by placer.\n",
            "__________________________________________________________________________________________________\n",
            "Layer (type)                    Output Shape         Param #     Connected to                     \n",
            "==================================================================================================\n",
            "the_input (InputLayer)          (None, 128, 64, 1)   0                                            \n",
            "__________________________________________________________________________________________________\n",
            "conv1 (Conv2D)                  (None, 128, 64, 16)  160         the_input[0][0]                  \n",
            "__________________________________________________________________________________________________\n",
            "max1 (MaxPooling2D)             (None, 64, 32, 16)   0           conv1[0][0]                      \n",
            "__________________________________________________________________________________________________\n",
            "conv2 (Conv2D)                  (None, 64, 32, 16)   2320        max1[0][0]                       \n",
            "__________________________________________________________________________________________________\n",
            "max2 (MaxPooling2D)             (None, 32, 16, 16)   0           conv2[0][0]                      \n",
            "__________________________________________________________________________________________________\n",
            "reshape (Reshape)               (None, 32, 256)      0           max2[0][0]                       \n",
            "__________________________________________________________________________________________________\n",
            "dense1 (Dense)                  (None, 32, 32)       8224        reshape[0][0]                    \n",
            "__________________________________________________________________________________________________\n",
            "gru1 (GRU)                      (None, 32, 512)      837120      dense1[0][0]                     \n",
            "__________________________________________________________________________________________________\n",
            "gru1_b (GRU)                    (None, 32, 512)      837120      dense1[0][0]                     \n",
            "__________________________________________________________________________________________________\n",
            "add_1 (Add)                     (None, 32, 512)      0           gru1[0][0]                       \n",
            "                                                                 gru1_b[0][0]                     \n",
            "__________________________________________________________________________________________________\n",
            "gru2 (GRU)                      (None, 32, 512)      1574400     add_1[0][0]                      \n",
            "__________________________________________________________________________________________________\n",
            "gru2_b (GRU)                    (None, 32, 512)      1574400     add_1[0][0]                      \n",
            "__________________________________________________________________________________________________\n",
            "concatenate_1 (Concatenate)     (None, 32, 1024)     0           gru2[0][0]                       \n",
            "                                                                 gru2_b[0][0]                     \n",
            "__________________________________________________________________________________________________\n",
            "dense2 (Dense)                  (None, 32, 23)       23575       concatenate_1[0][0]              \n",
            "__________________________________________________________________________________________________\n",
            "softmax (Activation)            (None, 32, 23)       0           dense2[0][0]                     \n",
            "==================================================================================================\n",
            "Total params: 4,857,319\n",
            "Trainable params: 4,857,319\n",
            "Non-trainable params: 0\n",
            "__________________________________________________________________________________________________\n",
            "WARNING:tensorflow:From /usr/local/lib/python3.6/dist-packages/keras/backend/tensorflow_backend.py:4249: to_int32 (from tensorflow.python.ops.math_ops) is deprecated and will be removed in a future version.\n",
            "Instructions for updating:\n",
            "Use tf.cast instead.\n",
            "WARNING:tensorflow:From /usr/local/lib/python3.6/dist-packages/keras/backend/tensorflow_backend.py:4229: to_int64 (from tensorflow.python.ops.math_ops) is deprecated and will be removed in a future version.\n",
            "Instructions for updating:\n",
            "Use tf.cast instead.\n",
            "WARNING:tensorflow:From /usr/local/lib/python3.6/dist-packages/tensorflow/python/ops/math_grad.py:102: div (from tensorflow.python.ops.math_ops) is deprecated and will be removed in a future version.\n",
            "Instructions for updating:\n",
            "Deprecated in favor of operator or tf.math.divide.\n",
            "Epoch 1/1\n",
            "10821/10821 [==============================] - 2876s 266ms/step - loss: 1.3597 - acc: 0.8623 - val_loss: 2.8564e-04 - val_acc: 1.0000\n"
          ],
          "name": "stdout"
        }
      ]
    },
    {
      "cell_type": "code",
      "metadata": {
        "id": "pkpHE9urf7jM",
        "colab_type": "code",
        "colab": {
          "base_uri": "https://localhost:8080/",
          "height": 2041
        },
        "outputId": "946de75e-f678-48bb-e06b-2d2a392abe7c"
      },
      "source": [
        "test_function(model4[1])"
      ],
      "execution_count": 18,
      "outputs": [
        {
          "output_type": "stream",
          "text": [
            "Predicted characters: M383HY43\n",
            "\n"
          ],
          "name": "stdout"
        },
        {
          "output_type": "display_data",
          "data": {
            "image/png": "[encoded data removed]",
            "text/plain": [
              "<Figure size 432x288 with 1 Axes>"
            ]
          },
          "metadata": {
            "tags": []
          }
        },
        {
          "output_type": "stream",
          "text": [
            "************************************************************************\n",
            "Predicted characters: O474EK89\n",
            "\n"
          ],
          "name": "stdout"
        },
        {
          "output_type": "display_data",
          "data": {
            "image/png": "[encoded data removed]",
            "text/plain": [
              "<Figure size 432x288 with 1 Axes>"
            ]
          },
          "metadata": {
            "tags": []
          }
        },
        {
          "output_type": "stream",
          "text": [
            "************************************************************************\n",
            "Predicted characters: P348PC67\n",
            "\n"
          ],
          "name": "stdout"
        },
        {
          "output_type": "display_data",
          "data": {
            "image/png": "[encoded data removed]",
            "text/plain": [
              "<Figure size 432x288 with 1 Axes>"
            ]
          },
          "metadata": {
            "tags": []
          }
        },
        {
          "output_type": "stream",
          "text": [
            "************************************************************************\n",
            "Predicted characters: K223OK78\n",
            "\n"
          ],
          "name": "stdout"
        },
        {
          "output_type": "display_data",
          "data": {
            "image/png": "[encoded data removed]",
            "text/plain": [
              "<Figure size 432x288 with 1 Axes>"
            ]
          },
          "metadata": {
            "tags": []
          }
        },
        {
          "output_type": "stream",
          "text": [
            "************************************************************************\n",
            "Predicted characters: X053PM55\n",
            "\n"
          ],
          "name": "stdout"
        },
        {
          "output_type": "display_data",
          "data": {
            "image/png": "[encoded data removed]",
            "text/plain": [
              "<Figure size 432x288 with 1 Axes>"
            ]
          },
          "metadata": {
            "tags": []
          }
        },
        {
          "output_type": "stream",
          "text": [
            "************************************************************************\n",
            "Predicted characters: C181CM60\n",
            "\n"
          ],
          "name": "stdout"
        },
        {
          "output_type": "display_data",
          "data": {
            "image/png": "[encoded data removed]",
            "text/plain": [
              "<Figure size 432x288 with 1 Axes>"
            ]
          },
          "metadata": {
            "tags": []
          }
        },
        {
          "output_type": "stream",
          "text": [
            "************************************************************************\n",
            "Predicted characters: M607ET16\n",
            "\n"
          ],
          "name": "stdout"
        },
        {
          "output_type": "display_data",
          "data": {
            "image/png": "[encoded data removed]",
            "text/plain": [
              "<Figure size 432x288 with 1 Axes>"
            ]
          },
          "metadata": {
            "tags": []
          }
        },
        {
          "output_type": "stream",
          "text": [
            "************************************************************************\n",
            "Predicted characters: K535MC23\n",
            "\n"
          ],
          "name": "stdout"
        },
        {
          "output_type": "display_data",
          "data": {
            "image/png": "[encoded data removed]",
            "text/plain": [
              "<Figure size 432x288 with 1 Axes>"
            ]
          },
          "metadata": {
            "tags": []
          }
        },
        {
          "output_type": "stream",
          "text": [
            "************************************************************************\n"
          ],
          "name": "stdout"
        }
      ]
    }
  ]
}